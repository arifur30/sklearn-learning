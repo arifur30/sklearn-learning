{
 "cells": [
  {
   "cell_type": "raw",
   "id": "53f6a5bf",
   "metadata": {
    "_cell_guid": "b1076dfc-b9ad-4769-8c92-a6c4dae69d19",
    "_uuid": "8f2839f25d086af736a60e9eeb907d3b93b6e0e5",
    "papermill": {
     "duration": 0.01041,
     "end_time": "2025-04-17T20:36:06.211726",
     "exception": false,
     "start_time": "2025-04-17T20:36:06.201316",
     "status": "completed"
    },
    "tags": []
   },
   "source": []
  },
  {
   "cell_type": "markdown",
   "id": "3d864829",
   "metadata": {
    "papermill": {
     "duration": 0.008717,
     "end_time": "2025-04-17T20:36:06.229779",
     "exception": false,
     "start_time": "2025-04-17T20:36:06.221062",
     "status": "completed"
    },
    "tags": []
   },
   "source": [
    "# Importing Scikit-learn"
   ]
  },
  {
   "cell_type": "code",
   "execution_count": 1,
   "id": "f803b2de",
   "metadata": {
    "execution": {
     "iopub.execute_input": "2025-04-17T20:36:06.248806Z",
     "iopub.status.busy": "2025-04-17T20:36:06.248472Z",
     "iopub.status.idle": "2025-04-17T20:36:07.543862Z",
     "shell.execute_reply": "2025-04-17T20:36:07.542688Z"
    },
    "papermill": {
     "duration": 1.306593,
     "end_time": "2025-04-17T20:36:07.545474",
     "exception": false,
     "start_time": "2025-04-17T20:36:06.238881",
     "status": "completed"
    },
    "tags": []
   },
   "outputs": [
    {
     "name": "stdout",
     "output_type": "stream",
     "text": [
      "1.2.2\n"
     ]
    }
   ],
   "source": [
    "import sklearn\n",
    "print(sklearn.__version__)\n"
   ]
  },
  {
   "cell_type": "markdown",
   "id": "c2dcae11",
   "metadata": {
    "papermill": {
     "duration": 0.00859,
     "end_time": "2025-04-17T20:36:07.563152",
     "exception": false,
     "start_time": "2025-04-17T20:36:07.554562",
     "status": "completed"
    },
    "tags": []
   },
   "source": [
    "Let's dive in the way. How scikit-learn works is you start with some data you then eventually give it to a model the model will learn from it and then you will be able to make predictions. That's the general flow. However let's be a little bit specific just giving data to a model is a bit vague so what do we mean by giving data to a model now typically if we have a data set that's useful for predictions then we can split the data set up into two parts and the common notation is to call one part of the data x and the other part of the data y. Now, typically my data set x represents everything that i'm using to make a prediction and my data set y contains the prediction that i'm interested in making the use case that we're going to deal with in a moment has to do with house."
   ]
  },
  {
   "cell_type": "markdown",
   "id": "94f3978d",
   "metadata": {
    "papermill": {
     "duration": 0.008543,
     "end_time": "2025-04-17T20:36:07.580570",
     "exception": false,
     "start_time": "2025-04-17T20:36:07.572027",
     "status": "completed"
    },
    "tags": []
   },
   "source": [
    "# Importing a dataset into Scikit learn\n"
   ]
  },
  {
   "cell_type": "code",
   "execution_count": 2,
   "id": "edb33035",
   "metadata": {
    "execution": {
     "iopub.execute_input": "2025-04-17T20:36:07.600444Z",
     "iopub.status.busy": "2025-04-17T20:36:07.599911Z",
     "iopub.status.idle": "2025-04-17T20:36:07.735200Z",
     "shell.execute_reply": "2025-04-17T20:36:07.734410Z"
    },
    "papermill": {
     "duration": 0.146861,
     "end_time": "2025-04-17T20:36:07.736815",
     "exception": false,
     "start_time": "2025-04-17T20:36:07.589954",
     "status": "completed"
    },
    "tags": []
   },
   "outputs": [],
   "source": [
    "from sklearn.datasets import load_diabetes \n",
    "\n",
    "# in case of Jupyter Notebook\n",
    "# in kaggle, we can simply add dataset from input"
   ]
  },
  {
   "cell_type": "code",
   "execution_count": 3,
   "id": "c7047ca6",
   "metadata": {
    "execution": {
     "iopub.execute_input": "2025-04-17T20:36:07.756044Z",
     "iopub.status.busy": "2025-04-17T20:36:07.755688Z",
     "iopub.status.idle": "2025-04-17T20:36:09.700911Z",
     "shell.execute_reply": "2025-04-17T20:36:09.699848Z"
    },
    "papermill": {
     "duration": 1.956659,
     "end_time": "2025-04-17T20:36:09.702624",
     "exception": false,
     "start_time": "2025-04-17T20:36:07.745965",
     "status": "completed"
    },
    "tags": []
   },
   "outputs": [
    {
     "data": {
      "text/html": [
       "<div>\n",
       "<style scoped>\n",
       "    .dataframe tbody tr th:only-of-type {\n",
       "        vertical-align: middle;\n",
       "    }\n",
       "\n",
       "    .dataframe tbody tr th {\n",
       "        vertical-align: top;\n",
       "    }\n",
       "\n",
       "    .dataframe thead th {\n",
       "        text-align: right;\n",
       "    }\n",
       "</style>\n",
       "<table border=\"1\" class=\"dataframe\">\n",
       "  <thead>\n",
       "    <tr style=\"text-align: right;\">\n",
       "      <th></th>\n",
       "      <th>0.00632  18.00   2.310  0  0.5380  6.5750  65.20  4.0900   1  296.0  15.30 396.90   4.98  24.00</th>\n",
       "    </tr>\n",
       "  </thead>\n",
       "  <tbody>\n",
       "    <tr>\n",
       "      <th>0</th>\n",
       "      <td>0.02731   0.00   7.070  0  0.4690  6.4210  78...</td>\n",
       "    </tr>\n",
       "    <tr>\n",
       "      <th>1</th>\n",
       "      <td>0.02729   0.00   7.070  0  0.4690  7.1850  61...</td>\n",
       "    </tr>\n",
       "    <tr>\n",
       "      <th>2</th>\n",
       "      <td>0.03237   0.00   2.180  0  0.4580  6.9980  45...</td>\n",
       "    </tr>\n",
       "    <tr>\n",
       "      <th>3</th>\n",
       "      <td>0.06905   0.00   2.180  0  0.4580  7.1470  54...</td>\n",
       "    </tr>\n",
       "    <tr>\n",
       "      <th>4</th>\n",
       "      <td>0.02985   0.00   2.180  0  0.4580  6.4300  58...</td>\n",
       "    </tr>\n",
       "  </tbody>\n",
       "</table>\n",
       "</div>"
      ],
      "text/plain": [
       "  0.00632  18.00   2.310  0  0.5380  6.5750  65.20  4.0900   1  296.0  15.30 396.90   4.98  24.00\n",
       "0   0.02731   0.00   7.070  0  0.4690  6.4210  78...                                             \n",
       "1   0.02729   0.00   7.070  0  0.4690  7.1850  61...                                             \n",
       "2   0.03237   0.00   2.180  0  0.4580  6.9980  45...                                             \n",
       "3   0.06905   0.00   2.180  0  0.4580  7.1470  54...                                             \n",
       "4   0.02985   0.00   2.180  0  0.4580  6.4300  58...                                             "
      ]
     },
     "execution_count": 3,
     "metadata": {},
     "output_type": "execute_result"
    }
   ],
   "source": [
    "import pandas as pd\n",
    "data  = pd.read_csv('/kaggle/input/boston-house-prices/housing.csv', sep = ',')\n",
    "\n",
    "data.head()\n",
    "\n",
    "# i am skipping this dataset for right now. will work on it later"
   ]
  },
  {
   "cell_type": "markdown",
   "id": "095f645d",
   "metadata": {
    "papermill": {
     "duration": 0.011848,
     "end_time": "2025-04-17T20:36:09.726902",
     "exception": false,
     "start_time": "2025-04-17T20:36:09.715054",
     "status": "completed"
    },
    "tags": []
   },
   "source": [
    "# importing sklearn datasets\n"
   ]
  },
  {
   "cell_type": "code",
   "execution_count": 4,
   "id": "9d44aa85",
   "metadata": {
    "execution": {
     "iopub.execute_input": "2025-04-17T20:36:09.749866Z",
     "iopub.status.busy": "2025-04-17T20:36:09.749515Z",
     "iopub.status.idle": "2025-04-17T20:36:09.753830Z",
     "shell.execute_reply": "2025-04-17T20:36:09.752715Z"
    },
    "papermill": {
     "duration": 0.01823,
     "end_time": "2025-04-17T20:36:09.755357",
     "exception": false,
     "start_time": "2025-04-17T20:36:09.737127",
     "status": "completed"
    },
    "tags": []
   },
   "outputs": [],
   "source": [
    "from sklearn.datasets import load_diabetes"
   ]
  },
  {
   "cell_type": "code",
   "execution_count": 5,
   "id": "4265150a",
   "metadata": {
    "execution": {
     "iopub.execute_input": "2025-04-17T20:36:09.777255Z",
     "iopub.status.busy": "2025-04-17T20:36:09.776930Z",
     "iopub.status.idle": "2025-04-17T20:36:09.794501Z",
     "shell.execute_reply": "2025-04-17T20:36:09.793648Z"
    },
    "papermill": {
     "duration": 0.029302,
     "end_time": "2025-04-17T20:36:09.796143",
     "exception": false,
     "start_time": "2025-04-17T20:36:09.766841",
     "status": "completed"
    },
    "tags": []
   },
   "outputs": [
    {
     "data": {
      "text/plain": [
       "{'data': array([[ 0.03807591,  0.05068012,  0.06169621, ..., -0.00259226,\n",
       "          0.01990749, -0.01764613],\n",
       "        [-0.00188202, -0.04464164, -0.05147406, ..., -0.03949338,\n",
       "         -0.06833155, -0.09220405],\n",
       "        [ 0.08529891,  0.05068012,  0.04445121, ..., -0.00259226,\n",
       "          0.00286131, -0.02593034],\n",
       "        ...,\n",
       "        [ 0.04170844,  0.05068012, -0.01590626, ..., -0.01107952,\n",
       "         -0.04688253,  0.01549073],\n",
       "        [-0.04547248, -0.04464164,  0.03906215, ...,  0.02655962,\n",
       "          0.04452873, -0.02593034],\n",
       "        [-0.04547248, -0.04464164, -0.0730303 , ..., -0.03949338,\n",
       "         -0.00422151,  0.00306441]]),\n",
       " 'target': array([151.,  75., 141., 206., 135.,  97., 138.,  63., 110., 310., 101.,\n",
       "         69., 179., 185., 118., 171., 166., 144.,  97., 168.,  68.,  49.,\n",
       "         68., 245., 184., 202., 137.,  85., 131., 283., 129.,  59., 341.,\n",
       "         87.,  65., 102., 265., 276., 252.,  90., 100.,  55.,  61.,  92.,\n",
       "        259.,  53., 190., 142.,  75., 142., 155., 225.,  59., 104., 182.,\n",
       "        128.,  52.,  37., 170., 170.,  61., 144.,  52., 128.,  71., 163.,\n",
       "        150.,  97., 160., 178.,  48., 270., 202., 111.,  85.,  42., 170.,\n",
       "        200., 252., 113., 143.,  51.,  52., 210.,  65., 141.,  55., 134.,\n",
       "         42., 111.,  98., 164.,  48.,  96.,  90., 162., 150., 279.,  92.,\n",
       "         83., 128., 102., 302., 198.,  95.,  53., 134., 144., 232.,  81.,\n",
       "        104.,  59., 246., 297., 258., 229., 275., 281., 179., 200., 200.,\n",
       "        173., 180.,  84., 121., 161.,  99., 109., 115., 268., 274., 158.,\n",
       "        107.,  83., 103., 272.,  85., 280., 336., 281., 118., 317., 235.,\n",
       "         60., 174., 259., 178., 128.,  96., 126., 288.,  88., 292.,  71.,\n",
       "        197., 186.,  25.,  84.,  96., 195.,  53., 217., 172., 131., 214.,\n",
       "         59.,  70., 220., 268., 152.,  47.,  74., 295., 101., 151., 127.,\n",
       "        237., 225.,  81., 151., 107.,  64., 138., 185., 265., 101., 137.,\n",
       "        143., 141.,  79., 292., 178.,  91., 116.,  86., 122.,  72., 129.,\n",
       "        142.,  90., 158.,  39., 196., 222., 277.,  99., 196., 202., 155.,\n",
       "         77., 191.,  70.,  73.,  49.,  65., 263., 248., 296., 214., 185.,\n",
       "         78.,  93., 252., 150.,  77., 208.,  77., 108., 160.,  53., 220.,\n",
       "        154., 259.,  90., 246., 124.,  67.,  72., 257., 262., 275., 177.,\n",
       "         71.,  47., 187., 125.,  78.,  51., 258., 215., 303., 243.,  91.,\n",
       "        150., 310., 153., 346.,  63.,  89.,  50.,  39., 103., 308., 116.,\n",
       "        145.,  74.,  45., 115., 264.,  87., 202., 127., 182., 241.,  66.,\n",
       "         94., 283.,  64., 102., 200., 265.,  94., 230., 181., 156., 233.,\n",
       "         60., 219.,  80.,  68., 332., 248.,  84., 200.,  55.,  85.,  89.,\n",
       "         31., 129.,  83., 275.,  65., 198., 236., 253., 124.,  44., 172.,\n",
       "        114., 142., 109., 180., 144., 163., 147.,  97., 220., 190., 109.,\n",
       "        191., 122., 230., 242., 248., 249., 192., 131., 237.,  78., 135.,\n",
       "        244., 199., 270., 164.,  72.,  96., 306.,  91., 214.,  95., 216.,\n",
       "        263., 178., 113., 200., 139., 139.,  88., 148.,  88., 243.,  71.,\n",
       "         77., 109., 272.,  60.,  54., 221.,  90., 311., 281., 182., 321.,\n",
       "         58., 262., 206., 233., 242., 123., 167.,  63., 197.,  71., 168.,\n",
       "        140., 217., 121., 235., 245.,  40.,  52., 104., 132.,  88.,  69.,\n",
       "        219.,  72., 201., 110.,  51., 277.,  63., 118.,  69., 273., 258.,\n",
       "         43., 198., 242., 232., 175.,  93., 168., 275., 293., 281.,  72.,\n",
       "        140., 189., 181., 209., 136., 261., 113., 131., 174., 257.,  55.,\n",
       "         84.,  42., 146., 212., 233.,  91., 111., 152., 120.,  67., 310.,\n",
       "         94., 183.,  66., 173.,  72.,  49.,  64.,  48., 178., 104., 132.,\n",
       "        220.,  57.]),\n",
       " 'frame': None,\n",
       " 'DESCR': '.. _diabetes_dataset:\\n\\nDiabetes dataset\\n----------------\\n\\nTen baseline variables, age, sex, body mass index, average blood\\npressure, and six blood serum measurements were obtained for each of n =\\n442 diabetes patients, as well as the response of interest, a\\nquantitative measure of disease progression one year after baseline.\\n\\n**Data Set Characteristics:**\\n\\n  :Number of Instances: 442\\n\\n  :Number of Attributes: First 10 columns are numeric predictive values\\n\\n  :Target: Column 11 is a quantitative measure of disease progression one year after baseline\\n\\n  :Attribute Information:\\n      - age     age in years\\n      - sex\\n      - bmi     body mass index\\n      - bp      average blood pressure\\n      - s1      tc, total serum cholesterol\\n      - s2      ldl, low-density lipoproteins\\n      - s3      hdl, high-density lipoproteins\\n      - s4      tch, total cholesterol / HDL\\n      - s5      ltg, possibly log of serum triglycerides level\\n      - s6      glu, blood sugar level\\n\\nNote: Each of these 10 feature variables have been mean centered and scaled by the standard deviation times the square root of `n_samples` (i.e. the sum of squares of each column totals 1).\\n\\nSource URL:\\nhttps://www4.stat.ncsu.edu/~boos/var.select/diabetes.html\\n\\nFor more information see:\\nBradley Efron, Trevor Hastie, Iain Johnstone and Robert Tibshirani (2004) \"Least Angle Regression,\" Annals of Statistics (with discussion), 407-499.\\n(https://web.stanford.edu/~hastie/Papers/LARS/LeastAngle_2002.pdf)\\n',\n",
       " 'feature_names': ['age',\n",
       "  'sex',\n",
       "  'bmi',\n",
       "  'bp',\n",
       "  's1',\n",
       "  's2',\n",
       "  's3',\n",
       "  's4',\n",
       "  's5',\n",
       "  's6'],\n",
       " 'data_filename': 'diabetes_data_raw.csv.gz',\n",
       " 'target_filename': 'diabetes_target.csv.gz',\n",
       " 'data_module': 'sklearn.datasets.data'}"
      ]
     },
     "execution_count": 5,
     "metadata": {},
     "output_type": "execute_result"
    }
   ],
   "source": [
    "load_diabetes()"
   ]
  },
  {
   "cell_type": "markdown",
   "id": "1abd19c0",
   "metadata": {
    "papermill": {
     "duration": 0.013051,
     "end_time": "2025-04-17T20:36:09.820836",
     "exception": false,
     "start_time": "2025-04-17T20:36:09.807785",
     "status": "completed"
    },
    "tags": []
   },
   "source": [
    "it's going to give me a dictionary with lots of items in it however there's a parameter that we can set called **return x y** and if **we set that to true** \n",
    "\n",
    "then we get **two arrays** out one array represents the house prices and these house prices are in thousands of dollars and these are all properties"
   ]
  },
  {
   "cell_type": "code",
   "execution_count": 6,
   "id": "07878917",
   "metadata": {
    "execution": {
     "iopub.execute_input": "2025-04-17T20:36:09.845400Z",
     "iopub.status.busy": "2025-04-17T20:36:09.844870Z",
     "iopub.status.idle": "2025-04-17T20:36:09.854339Z",
     "shell.execute_reply": "2025-04-17T20:36:09.853415Z"
    },
    "papermill": {
     "duration": 0.025964,
     "end_time": "2025-04-17T20:36:09.856365",
     "exception": false,
     "start_time": "2025-04-17T20:36:09.830401",
     "status": "completed"
    },
    "tags": []
   },
   "outputs": [],
   "source": [
    "X, y = load_diabetes(return_X_y = True)  #function"
   ]
  },
  {
   "cell_type": "markdown",
   "id": "3661611c",
   "metadata": {
    "papermill": {
     "duration": 0.00981,
     "end_time": "2025-04-17T20:36:09.878533",
     "exception": false,
     "start_time": "2025-04-17T20:36:09.868723",
     "status": "completed"
    },
    "tags": []
   },
   "source": [
    "✅ What load_diabetes(return_X_y=True) does:\n",
    "It loads the diabetes dataset (a built-in dataset in scikit-learn) and returns:\n",
    "\n",
    "X: a 2D NumPy array of features (shape: 442 rows × 10 features)\n",
    "\n",
    "y: a 1D NumPy array of target values (a quantitative measure of disease progression)"
   ]
  },
  {
   "cell_type": "markdown",
   "id": "555fc0dc",
   "metadata": {
    "papermill": {
     "duration": 0.009863,
     "end_time": "2025-04-17T20:36:09.900908",
     "exception": false,
     "start_time": "2025-04-17T20:36:09.891045",
     "status": "completed"
    },
    "tags": []
   },
   "source": [
    "Now we are importing one sklearn model to work on the dataset. We will learn about the models in future"
   ]
  },
  {
   "cell_type": "code",
   "execution_count": 7,
   "id": "5b0dae2d",
   "metadata": {
    "execution": {
     "iopub.execute_input": "2025-04-17T20:36:09.920817Z",
     "iopub.status.busy": "2025-04-17T20:36:09.920443Z",
     "iopub.status.idle": "2025-04-17T20:36:10.264947Z",
     "shell.execute_reply": "2025-04-17T20:36:10.263978Z"
    },
    "papermill": {
     "duration": 0.356288,
     "end_time": "2025-04-17T20:36:10.266567",
     "exception": false,
     "start_time": "2025-04-17T20:36:09.910279",
     "status": "completed"
    },
    "tags": []
   },
   "outputs": [],
   "source": [
    "from sklearn.neighbors import KNeighborsRegressor"
   ]
  },
  {
   "cell_type": "markdown",
   "id": "2a8c3f11",
   "metadata": {
    "papermill": {
     "duration": 0.009167,
     "end_time": "2025-04-17T20:36:10.285725",
     "exception": false,
     "start_time": "2025-04-17T20:36:10.276558",
     "status": "completed"
    },
    "tags": []
   },
   "source": []
  },
  {
   "cell_type": "code",
   "execution_count": 8,
   "id": "ea6ca892",
   "metadata": {
    "execution": {
     "iopub.execute_input": "2025-04-17T20:36:10.311657Z",
     "iopub.status.busy": "2025-04-17T20:36:10.310948Z",
     "iopub.status.idle": "2025-04-17T20:36:10.316379Z",
     "shell.execute_reply": "2025-04-17T20:36:10.315161Z"
    },
    "papermill": {
     "duration": 0.022955,
     "end_time": "2025-04-17T20:36:10.317945",
     "exception": false,
     "start_time": "2025-04-17T20:36:10.294990",
     "status": "completed"
    },
    "tags": []
   },
   "outputs": [],
   "source": [
    "model = KNeighborsRegressor()"
   ]
  },
  {
   "cell_type": "code",
   "execution_count": 9,
   "id": "125ab325",
   "metadata": {
    "execution": {
     "iopub.execute_input": "2025-04-17T20:36:10.415843Z",
     "iopub.status.busy": "2025-04-17T20:36:10.415495Z",
     "iopub.status.idle": "2025-04-17T20:36:10.419600Z",
     "shell.execute_reply": "2025-04-17T20:36:10.418738Z"
    },
    "papermill": {
     "duration": 0.093403,
     "end_time": "2025-04-17T20:36:10.421424",
     "exception": false,
     "start_time": "2025-04-17T20:36:10.328021",
     "status": "completed"
    },
    "tags": []
   },
   "outputs": [],
   "source": [
    "#  model.predict(X)"
   ]
  },
  {
   "cell_type": "markdown",
   "id": "3f26077d",
   "metadata": {
    "papermill": {
     "duration": 0.012327,
     "end_time": "2025-04-17T20:36:10.449924",
     "exception": false,
     "start_time": "2025-04-17T20:36:10.437597",
     "status": "completed"
    },
    "tags": []
   },
   "source": [
    "> ---------------------------------------------------------------------------\n",
    ">NotFittedError                            Traceback (most recent call last)\n",
    "/tmp/ipykernel_31/2413634177.py in <cell line: 0>()\n",
    "----> 1 model.predict(X)\n"
   ]
  },
  {
   "cell_type": "markdown",
   "id": "be6c0d6e",
   "metadata": {
    "papermill": {
     "duration": 0.009319,
     "end_time": "2025-04-17T20:36:10.468958",
     "exception": false,
     "start_time": "2025-04-17T20:36:10.459639",
     "status": "completed"
    },
    "tags": []
   },
   "source": [
    ">  NotFittedError                            \n",
    "\n",
    "As we did not fitted the datasets to the model yet, so, estimating about it is **ERROR** . \n",
    "\n",
    "**We have to fit the dataset first**"
   ]
  },
  {
   "cell_type": "markdown",
   "id": "0feb32cf",
   "metadata": {
    "papermill": {
     "duration": 0.009579,
     "end_time": "2025-04-17T20:36:10.488218",
     "exception": false,
     "start_time": "2025-04-17T20:36:10.478639",
     "status": "completed"
    },
    "tags": []
   },
   "source": []
  },
  {
   "cell_type": "code",
   "execution_count": 10,
   "id": "75febade",
   "metadata": {
    "execution": {
     "iopub.execute_input": "2025-04-17T20:36:10.515865Z",
     "iopub.status.busy": "2025-04-17T20:36:10.515434Z",
     "iopub.status.idle": "2025-04-17T20:36:10.534781Z",
     "shell.execute_reply": "2025-04-17T20:36:10.533679Z"
    },
    "papermill": {
     "duration": 0.035071,
     "end_time": "2025-04-17T20:36:10.536748",
     "exception": false,
     "start_time": "2025-04-17T20:36:10.501677",
     "status": "completed"
    },
    "tags": []
   },
   "outputs": [
    {
     "data": {
      "text/html": [
       "<style>#sk-container-id-1 {color: black;background-color: white;}#sk-container-id-1 pre{padding: 0;}#sk-container-id-1 div.sk-toggleable {background-color: white;}#sk-container-id-1 label.sk-toggleable__label {cursor: pointer;display: block;width: 100%;margin-bottom: 0;padding: 0.3em;box-sizing: border-box;text-align: center;}#sk-container-id-1 label.sk-toggleable__label-arrow:before {content: \"▸\";float: left;margin-right: 0.25em;color: #696969;}#sk-container-id-1 label.sk-toggleable__label-arrow:hover:before {color: black;}#sk-container-id-1 div.sk-estimator:hover label.sk-toggleable__label-arrow:before {color: black;}#sk-container-id-1 div.sk-toggleable__content {max-height: 0;max-width: 0;overflow: hidden;text-align: left;background-color: #f0f8ff;}#sk-container-id-1 div.sk-toggleable__content pre {margin: 0.2em;color: black;border-radius: 0.25em;background-color: #f0f8ff;}#sk-container-id-1 input.sk-toggleable__control:checked~div.sk-toggleable__content {max-height: 200px;max-width: 100%;overflow: auto;}#sk-container-id-1 input.sk-toggleable__control:checked~label.sk-toggleable__label-arrow:before {content: \"▾\";}#sk-container-id-1 div.sk-estimator input.sk-toggleable__control:checked~label.sk-toggleable__label {background-color: #d4ebff;}#sk-container-id-1 div.sk-label input.sk-toggleable__control:checked~label.sk-toggleable__label {background-color: #d4ebff;}#sk-container-id-1 input.sk-hidden--visually {border: 0;clip: rect(1px 1px 1px 1px);clip: rect(1px, 1px, 1px, 1px);height: 1px;margin: -1px;overflow: hidden;padding: 0;position: absolute;width: 1px;}#sk-container-id-1 div.sk-estimator {font-family: monospace;background-color: #f0f8ff;border: 1px dotted black;border-radius: 0.25em;box-sizing: border-box;margin-bottom: 0.5em;}#sk-container-id-1 div.sk-estimator:hover {background-color: #d4ebff;}#sk-container-id-1 div.sk-parallel-item::after {content: \"\";width: 100%;border-bottom: 1px solid gray;flex-grow: 1;}#sk-container-id-1 div.sk-label:hover label.sk-toggleable__label {background-color: #d4ebff;}#sk-container-id-1 div.sk-serial::before {content: \"\";position: absolute;border-left: 1px solid gray;box-sizing: border-box;top: 0;bottom: 0;left: 50%;z-index: 0;}#sk-container-id-1 div.sk-serial {display: flex;flex-direction: column;align-items: center;background-color: white;padding-right: 0.2em;padding-left: 0.2em;position: relative;}#sk-container-id-1 div.sk-item {position: relative;z-index: 1;}#sk-container-id-1 div.sk-parallel {display: flex;align-items: stretch;justify-content: center;background-color: white;position: relative;}#sk-container-id-1 div.sk-item::before, #sk-container-id-1 div.sk-parallel-item::before {content: \"\";position: absolute;border-left: 1px solid gray;box-sizing: border-box;top: 0;bottom: 0;left: 50%;z-index: -1;}#sk-container-id-1 div.sk-parallel-item {display: flex;flex-direction: column;z-index: 1;position: relative;background-color: white;}#sk-container-id-1 div.sk-parallel-item:first-child::after {align-self: flex-end;width: 50%;}#sk-container-id-1 div.sk-parallel-item:last-child::after {align-self: flex-start;width: 50%;}#sk-container-id-1 div.sk-parallel-item:only-child::after {width: 0;}#sk-container-id-1 div.sk-dashed-wrapped {border: 1px dashed gray;margin: 0 0.4em 0.5em 0.4em;box-sizing: border-box;padding-bottom: 0.4em;background-color: white;}#sk-container-id-1 div.sk-label label {font-family: monospace;font-weight: bold;display: inline-block;line-height: 1.2em;}#sk-container-id-1 div.sk-label-container {text-align: center;}#sk-container-id-1 div.sk-container {/* jupyter's `normalize.less` sets `[hidden] { display: none; }` but bootstrap.min.css set `[hidden] { display: none !important; }` so we also need the `!important` here to be able to override the default hidden behavior on the sphinx rendered scikit-learn.org. See: https://github.com/scikit-learn/scikit-learn/issues/21755 */display: inline-block !important;position: relative;}#sk-container-id-1 div.sk-text-repr-fallback {display: none;}</style><div id=\"sk-container-id-1\" class=\"sk-top-container\"><div class=\"sk-text-repr-fallback\"><pre>KNeighborsRegressor()</pre><b>In a Jupyter environment, please rerun this cell to show the HTML representation or trust the notebook. <br />On GitHub, the HTML representation is unable to render, please try loading this page with nbviewer.org.</b></div><div class=\"sk-container\" hidden><div class=\"sk-item\"><div class=\"sk-estimator sk-toggleable\"><input class=\"sk-toggleable__control sk-hidden--visually\" id=\"sk-estimator-id-1\" type=\"checkbox\" checked><label for=\"sk-estimator-id-1\" class=\"sk-toggleable__label sk-toggleable__label-arrow\">KNeighborsRegressor</label><div class=\"sk-toggleable__content\"><pre>KNeighborsRegressor()</pre></div></div></div></div></div>"
      ],
      "text/plain": [
       "KNeighborsRegressor()"
      ]
     },
     "execution_count": 10,
     "metadata": {},
     "output_type": "execute_result"
    }
   ],
   "source": [
    "model.fit(X, y)"
   ]
  },
  {
   "cell_type": "code",
   "execution_count": 11,
   "id": "136a4ddd",
   "metadata": {
    "execution": {
     "iopub.execute_input": "2025-04-17T20:36:10.563409Z",
     "iopub.status.busy": "2025-04-17T20:36:10.562932Z",
     "iopub.status.idle": "2025-04-17T20:36:10.579966Z",
     "shell.execute_reply": "2025-04-17T20:36:10.579057Z"
    },
    "papermill": {
     "duration": 0.030211,
     "end_time": "2025-04-17T20:36:10.582257",
     "exception": false,
     "start_time": "2025-04-17T20:36:10.552046",
     "status": "completed"
    },
    "tags": []
   },
   "outputs": [
    {
     "data": {
      "text/plain": [
       "array([181.4,  80.8, 150.8, 203.4, 119.4, 108. ,  83.6, 120.6, 127.8,\n",
       "       187.8, 121.4, 129.6,  98.8, 166.8, 106.6, 144. , 174.4, 177.8,\n",
       "       132.8, 142. ,  80. ,  73.4, 113.4, 273.8, 151.4, 126.4, 132. ,\n",
       "       137.8, 107.2, 192.2, 154.6,  65. , 287.8,  78.6,  78.6, 109.6,\n",
       "       175.2, 172.6, 235. ,  76.4, 158.6, 113.4,  97.6,  74. , 257. ,\n",
       "        92.8, 163. , 150.2, 110.8, 145.4, 121.2, 152.4, 130.6,  94. ,\n",
       "       157.2,  88.8, 137.2, 101. , 132.2, 156.6, 115. , 124. ,  65.8,\n",
       "       132.4, 128.4, 154.4, 119.6,  88.8,  96.2, 136.6,  81.6, 234.6,\n",
       "       174.4, 109.8, 133.2,  72. , 171.8, 106.6, 179.4, 121.6, 134.4,\n",
       "       107.8,  69.2, 141.2,  80. , 108.6,  92.8, 124.6,  68.6, 110.6,\n",
       "        95. , 136.4, 153.4,  82.8,  83.8, 126.8, 170.6, 165.8,  88.6,\n",
       "       126.2, 158.8,  86.2, 151.8, 155.4, 139.4,  87. , 115. , 143.2,\n",
       "       181. , 183. ,  71.2,  99.4, 134.8, 202. , 277.4, 165.4, 255.4,\n",
       "       207. , 126.6, 132.2, 130. , 202. , 232.4, 158.2, 136.4, 166.4,\n",
       "       111.6,  92.8, 112.2, 204.4, 255.4, 105.4, 106. ,  77. , 155.2,\n",
       "       250.8,  85.6, 261.2, 265.2, 250.2, 163.6, 272.4, 207.4,  99.6,\n",
       "       192.6, 220.4, 142.8, 235.4,  89. , 143. , 223.6, 121.6, 221.2,\n",
       "       131.4, 180.4, 233. , 122.6, 122.4, 100.2, 230.6,  85.2, 227.6,\n",
       "       129.6, 248.2, 135.6,  88.2,  73.4, 211.4, 261.6, 189.2,  71.2,\n",
       "        64.2, 278.8,  93. , 119.2, 103. , 221.8, 199.4, 106.8, 185.6,\n",
       "       112.2,  75.8, 193.8, 174.8, 237.2, 125.8, 151.4,  98. , 165. ,\n",
       "       114. , 193.2, 123.4,  94.6, 158.4, 130.2, 192.6,  74.2, 169. ,\n",
       "       166.4, 184.6,  96.8,  71.4, 166.6, 211.8, 201.8, 192.4, 173.2,\n",
       "       232. , 234.8, 135.2,  97. , 148.8, 134.6,  92.8,  89.6, 258.8,\n",
       "       230.8, 241.2, 169.4, 142.2,  82.8, 136.4, 134. , 146.8,  62.8,\n",
       "       181. ,  84.6, 110.2, 146.8,  65. , 193.8, 126. , 174.6,  98.2,\n",
       "       246. , 144.6, 133.8,  81.8, 143.6, 139. , 244.6, 136.6,  65.4,\n",
       "        87.6,  89.6, 128.8, 121.4, 102. , 171.4, 179. , 271.6, 239.6,\n",
       "       142.6, 168. , 278. , 117. , 220.4,  96. , 122.4, 101.8,  79.4,\n",
       "       124.4, 274.8,  84.8, 105. ,  79.6,  62.2, 156.8, 265.2, 116.4,\n",
       "       179. , 156. , 148.8, 203.6, 168.6, 116.6, 170.6,  82.8, 108.2,\n",
       "        96.2, 220. ,  93. , 156.2,  87. , 126.4, 215. ,  69.4, 139. ,\n",
       "        83.2, 150.8, 265.2, 198. ,  84. , 173.2,  74. ,  97.8,  83.2,\n",
       "        78.8, 145.6, 105. , 212. , 133.2, 195.2, 223.6, 131.2, 186.4,\n",
       "       136.6, 156.8,  85. , 141. , 226.6, 167.8, 101.2, 209.8, 142.4,\n",
       "        76.2, 153.6, 152.8, 137.4, 201. , 146.6, 245.6, 264.4, 247.6,\n",
       "       156.8, 201.8, 110.8, 207.2, 111.4,  77.8, 170.6, 128.4, 266.4,\n",
       "       173. ,  81.4, 106.2, 237. , 127.8, 131.8, 135.6, 169. , 167.4,\n",
       "       167.6, 180.2, 185. , 139.2, 173.2,  97.6, 140.2,  97.8, 273.4,\n",
       "        68. ,  74.6, 130.4, 198.2,  97.8,  63.4, 139.8,  91.6, 204.6,\n",
       "       192.8, 111.2, 265.2,  94.2, 171.8, 211. , 192.8, 228.2, 235.8,\n",
       "       167.4,  88.2, 197.2,  69.6, 181.4, 161.4, 221.2, 193.8, 188.6,\n",
       "       167.6, 101.2, 181.8,  94. , 228.4, 110. , 157.4, 156.2, 120.2,\n",
       "       124.4, 131.4,  67.4, 260.4,  88.2, 108.2, 108. , 242.2, 172.6,\n",
       "        61.2, 189. , 163. , 217. , 169. ,  75. , 132.4, 208.4, 184.2,\n",
       "       238.6, 110.8, 164.2, 202.2, 183.2, 169. , 138.8, 239. , 120.6,\n",
       "       144. , 166.4, 241.8, 103.8, 141.6,  83.8, 124.4, 191.8, 207.8,\n",
       "       179.6, 119.6, 108. , 189.6, 130.8, 295.2,  76.4, 154.4, 132.8,\n",
       "       213.6,  86.6, 100.8, 102. ,  68.2, 156. , 134. , 100.8, 176. ,\n",
       "        80.4])"
      ]
     },
     "execution_count": 11,
     "metadata": {},
     "output_type": "execute_result"
    }
   ],
   "source": [
    "pred_KNeighbor = model.predict(X)\n",
    "pred_KNeighbor"
   ]
  },
  {
   "cell_type": "code",
   "execution_count": null,
   "id": "6fdf1d20",
   "metadata": {
    "papermill": {
     "duration": 0.015431,
     "end_time": "2025-04-17T20:36:10.614332",
     "exception": false,
     "start_time": "2025-04-17T20:36:10.598901",
     "status": "completed"
    },
    "tags": []
   },
   "outputs": [],
   "source": []
  },
  {
   "cell_type": "markdown",
   "id": "793cd5fb",
   "metadata": {
    "papermill": {
     "duration": 0.010754,
     "end_time": "2025-04-17T20:36:10.634955",
     "exception": false,
     "start_time": "2025-04-17T20:36:10.624201",
     "status": "completed"
    },
    "tags": []
   },
   "source": [
    "**We dont know yet how this specific model works. but we can say every model has its own different way to predict the dataset. For this, we will test it in another model**"
   ]
  },
  {
   "cell_type": "code",
   "execution_count": 12,
   "id": "bd65a58d",
   "metadata": {
    "execution": {
     "iopub.execute_input": "2025-04-17T20:36:10.666058Z",
     "iopub.status.busy": "2025-04-17T20:36:10.664954Z",
     "iopub.status.idle": "2025-04-17T20:36:10.696397Z",
     "shell.execute_reply": "2025-04-17T20:36:10.695535Z"
    },
    "papermill": {
     "duration": 0.049716,
     "end_time": "2025-04-17T20:36:10.698237",
     "exception": false,
     "start_time": "2025-04-17T20:36:10.648521",
     "status": "completed"
    },
    "tags": []
   },
   "outputs": [
    {
     "data": {
      "text/html": [
       "<style>#sk-container-id-2 {color: black;background-color: white;}#sk-container-id-2 pre{padding: 0;}#sk-container-id-2 div.sk-toggleable {background-color: white;}#sk-container-id-2 label.sk-toggleable__label {cursor: pointer;display: block;width: 100%;margin-bottom: 0;padding: 0.3em;box-sizing: border-box;text-align: center;}#sk-container-id-2 label.sk-toggleable__label-arrow:before {content: \"▸\";float: left;margin-right: 0.25em;color: #696969;}#sk-container-id-2 label.sk-toggleable__label-arrow:hover:before {color: black;}#sk-container-id-2 div.sk-estimator:hover label.sk-toggleable__label-arrow:before {color: black;}#sk-container-id-2 div.sk-toggleable__content {max-height: 0;max-width: 0;overflow: hidden;text-align: left;background-color: #f0f8ff;}#sk-container-id-2 div.sk-toggleable__content pre {margin: 0.2em;color: black;border-radius: 0.25em;background-color: #f0f8ff;}#sk-container-id-2 input.sk-toggleable__control:checked~div.sk-toggleable__content {max-height: 200px;max-width: 100%;overflow: auto;}#sk-container-id-2 input.sk-toggleable__control:checked~label.sk-toggleable__label-arrow:before {content: \"▾\";}#sk-container-id-2 div.sk-estimator input.sk-toggleable__control:checked~label.sk-toggleable__label {background-color: #d4ebff;}#sk-container-id-2 div.sk-label input.sk-toggleable__control:checked~label.sk-toggleable__label {background-color: #d4ebff;}#sk-container-id-2 input.sk-hidden--visually {border: 0;clip: rect(1px 1px 1px 1px);clip: rect(1px, 1px, 1px, 1px);height: 1px;margin: -1px;overflow: hidden;padding: 0;position: absolute;width: 1px;}#sk-container-id-2 div.sk-estimator {font-family: monospace;background-color: #f0f8ff;border: 1px dotted black;border-radius: 0.25em;box-sizing: border-box;margin-bottom: 0.5em;}#sk-container-id-2 div.sk-estimator:hover {background-color: #d4ebff;}#sk-container-id-2 div.sk-parallel-item::after {content: \"\";width: 100%;border-bottom: 1px solid gray;flex-grow: 1;}#sk-container-id-2 div.sk-label:hover label.sk-toggleable__label {background-color: #d4ebff;}#sk-container-id-2 div.sk-serial::before {content: \"\";position: absolute;border-left: 1px solid gray;box-sizing: border-box;top: 0;bottom: 0;left: 50%;z-index: 0;}#sk-container-id-2 div.sk-serial {display: flex;flex-direction: column;align-items: center;background-color: white;padding-right: 0.2em;padding-left: 0.2em;position: relative;}#sk-container-id-2 div.sk-item {position: relative;z-index: 1;}#sk-container-id-2 div.sk-parallel {display: flex;align-items: stretch;justify-content: center;background-color: white;position: relative;}#sk-container-id-2 div.sk-item::before, #sk-container-id-2 div.sk-parallel-item::before {content: \"\";position: absolute;border-left: 1px solid gray;box-sizing: border-box;top: 0;bottom: 0;left: 50%;z-index: -1;}#sk-container-id-2 div.sk-parallel-item {display: flex;flex-direction: column;z-index: 1;position: relative;background-color: white;}#sk-container-id-2 div.sk-parallel-item:first-child::after {align-self: flex-end;width: 50%;}#sk-container-id-2 div.sk-parallel-item:last-child::after {align-self: flex-start;width: 50%;}#sk-container-id-2 div.sk-parallel-item:only-child::after {width: 0;}#sk-container-id-2 div.sk-dashed-wrapped {border: 1px dashed gray;margin: 0 0.4em 0.5em 0.4em;box-sizing: border-box;padding-bottom: 0.4em;background-color: white;}#sk-container-id-2 div.sk-label label {font-family: monospace;font-weight: bold;display: inline-block;line-height: 1.2em;}#sk-container-id-2 div.sk-label-container {text-align: center;}#sk-container-id-2 div.sk-container {/* jupyter's `normalize.less` sets `[hidden] { display: none; }` but bootstrap.min.css set `[hidden] { display: none !important; }` so we also need the `!important` here to be able to override the default hidden behavior on the sphinx rendered scikit-learn.org. See: https://github.com/scikit-learn/scikit-learn/issues/21755 */display: inline-block !important;position: relative;}#sk-container-id-2 div.sk-text-repr-fallback {display: none;}</style><div id=\"sk-container-id-2\" class=\"sk-top-container\"><div class=\"sk-text-repr-fallback\"><pre>LinearRegression()</pre><b>In a Jupyter environment, please rerun this cell to show the HTML representation or trust the notebook. <br />On GitHub, the HTML representation is unable to render, please try loading this page with nbviewer.org.</b></div><div class=\"sk-container\" hidden><div class=\"sk-item\"><div class=\"sk-estimator sk-toggleable\"><input class=\"sk-toggleable__control sk-hidden--visually\" id=\"sk-estimator-id-2\" type=\"checkbox\" checked><label for=\"sk-estimator-id-2\" class=\"sk-toggleable__label sk-toggleable__label-arrow\">LinearRegression</label><div class=\"sk-toggleable__content\"><pre>LinearRegression()</pre></div></div></div></div></div>"
      ],
      "text/plain": [
       "LinearRegression()"
      ]
     },
     "execution_count": 12,
     "metadata": {},
     "output_type": "execute_result"
    }
   ],
   "source": [
    "from sklearn.linear_model import LinearRegression\n",
    "mod = LinearRegression()\n",
    "mod.fit(X,y)\n"
   ]
  },
  {
   "cell_type": "markdown",
   "id": "90b88019",
   "metadata": {
    "papermill": {
     "duration": 0.01369,
     "end_time": "2025-04-17T20:36:10.730258",
     "exception": false,
     "start_time": "2025-04-17T20:36:10.716568",
     "status": "completed"
    },
    "tags": []
   },
   "source": [
    "# Showing the the predictions in scatter plot"
   ]
  },
  {
   "cell_type": "code",
   "execution_count": 13,
   "id": "12227a75",
   "metadata": {
    "execution": {
     "iopub.execute_input": "2025-04-17T20:36:10.751792Z",
     "iopub.status.busy": "2025-04-17T20:36:10.751446Z",
     "iopub.status.idle": "2025-04-17T20:36:10.757351Z",
     "shell.execute_reply": "2025-04-17T20:36:10.756472Z"
    },
    "papermill": {
     "duration": 0.018255,
     "end_time": "2025-04-17T20:36:10.758888",
     "exception": false,
     "start_time": "2025-04-17T20:36:10.740633",
     "status": "completed"
    },
    "tags": []
   },
   "outputs": [],
   "source": [
    "pred = mod.predict(X)"
   ]
  },
  {
   "cell_type": "code",
   "execution_count": 14,
   "id": "f5aebd26",
   "metadata": {
    "execution": {
     "iopub.execute_input": "2025-04-17T20:36:10.780099Z",
     "iopub.status.busy": "2025-04-17T20:36:10.779771Z",
     "iopub.status.idle": "2025-04-17T20:36:11.050092Z",
     "shell.execute_reply": "2025-04-17T20:36:11.049199Z"
    },
    "papermill": {
     "duration": 0.28324,
     "end_time": "2025-04-17T20:36:11.052189",
     "exception": false,
     "start_time": "2025-04-17T20:36:10.768949",
     "status": "completed"
    },
    "tags": []
   },
   "outputs": [
    {
     "data": {
      "text/plain": [
       "<matplotlib.collections.PathCollection at 0x7d04b1b1c1d0>"
      ]
     },
     "execution_count": 14,
     "metadata": {},
     "output_type": "execute_result"
    },
    {
     "data": {
      "image/png": "[encoded data removed]",
      "text/plain": [
       "<Figure size 640x480 with 1 Axes>"
      ]
     },
     "metadata": {},
     "output_type": "display_data"
    }
   ],
   "source": [
    "import matplotlib.pyplot as plt\n",
    "plt.scatter(pred, y)"
   ]
  },
  {
   "cell_type": "markdown",
   "id": "4450ce37",
   "metadata": {
    "papermill": {
     "duration": 0.010722,
     "end_time": "2025-04-17T20:36:11.079691",
     "exception": false,
     "start_time": "2025-04-17T20:36:11.068969",
     "status": "completed"
    },
    "tags": []
   },
   "source": [
    "Let's see the plot of KNeighbors that we predict earlier\n"
   ]
  },
  {
   "cell_type": "code",
   "execution_count": 15,
   "id": "f0d4eb9e",
   "metadata": {
    "execution": {
     "iopub.execute_input": "2025-04-17T20:36:11.103328Z",
     "iopub.status.busy": "2025-04-17T20:36:11.102645Z",
     "iopub.status.idle": "2025-04-17T20:36:11.364567Z",
     "shell.execute_reply": "2025-04-17T20:36:11.363659Z"
    },
    "papermill": {
     "duration": 0.27572,
     "end_time": "2025-04-17T20:36:11.366278",
     "exception": false,
     "start_time": "2025-04-17T20:36:11.090558",
     "status": "completed"
    },
    "tags": []
   },
   "outputs": [
    {
     "data": {
      "text/plain": [
       "<matplotlib.collections.PathCollection at 0x7d04b1b8c1d0>"
      ]
     },
     "execution_count": 15,
     "metadata": {},
     "output_type": "execute_result"
    },
    {
     "data": {
      "image/png": "[encoded data removed]",
      "text/plain": [
       "<Figure size 640x480 with 1 Axes>"
      ]
     },
     "metadata": {},
     "output_type": "display_data"
    }
   ],
   "source": [
    "plt.scatter(pred_KNeighbor, y)"
   ]
  },
  {
   "cell_type": "markdown",
   "id": "d73fa058",
   "metadata": {
    "papermill": {
     "duration": 0.020637,
     "end_time": "2025-04-17T20:36:11.399668",
     "exception": false,
     "start_time": "2025-04-17T20:36:11.379031",
     "status": "completed"
    },
    "tags": []
   },
   "source": [
    "In many cases, the unit of X axis is way more larger than the unit of Y axis. So, this is good for us to **preprocess the dataset** before fitting it to the model"
   ]
  },
  {
   "cell_type": "markdown",
   "id": "2facc7d5",
   "metadata": {
    "papermill": {
     "duration": 0.013448,
     "end_time": "2025-04-17T20:36:11.433933",
     "exception": false,
     "start_time": "2025-04-17T20:36:11.420485",
     "status": "completed"
    },
    "tags": []
   },
   "source": [
    "# Preprocessing"
   ]
  },
  {
   "cell_type": "code",
   "execution_count": 16,
   "id": "a656ce71",
   "metadata": {
    "execution": {
     "iopub.execute_input": "2025-04-17T20:36:11.458917Z",
     "iopub.status.busy": "2025-04-17T20:36:11.458481Z",
     "iopub.status.idle": "2025-04-17T20:36:11.475236Z",
     "shell.execute_reply": "2025-04-17T20:36:11.474342Z"
    },
    "papermill": {
     "duration": 0.031197,
     "end_time": "2025-04-17T20:36:11.476924",
     "exception": false,
     "start_time": "2025-04-17T20:36:11.445727",
     "status": "completed"
    },
    "tags": []
   },
   "outputs": [],
   "source": [
    "from sklearn.preprocessing import StandardScaler\n",
    "from sklearn.pipeline import Pipeline\n"
   ]
  },
  {
   "cell_type": "markdown",
   "id": "0eb41d4c",
   "metadata": {
    "papermill": {
     "duration": 0.011474,
     "end_time": "2025-04-17T20:36:11.500337",
     "exception": false,
     "start_time": "2025-04-17T20:36:11.488863",
     "status": "completed"
    },
    "tags": []
   },
   "source": [
    "In machine learning, a **pipeline** refers to a sequence of data processing steps that are chained together, usually to ensure clean, consistent, and reproducible preprocessing and modeling.\n",
    "\n",
    "So when you say:\n",
    "\n",
    "> I am giving my dataset to the pipeline to preprocess\n",
    "> \n",
    "You mean that you're passing your raw dataset through a series of predefined steps (like cleaning, transforming, and feature selection), before it's fed into a model."
   ]
  },
  {
   "cell_type": "code",
   "execution_count": 17,
   "id": "26cb2c7b",
   "metadata": {
    "execution": {
     "iopub.execute_input": "2025-04-17T20:36:11.527492Z",
     "iopub.status.busy": "2025-04-17T20:36:11.526343Z",
     "iopub.status.idle": "2025-04-17T20:36:11.533396Z",
     "shell.execute_reply": "2025-04-17T20:36:11.532523Z"
    },
    "papermill": {
     "duration": 0.021746,
     "end_time": "2025-04-17T20:36:11.535393",
     "exception": false,
     "start_time": "2025-04-17T20:36:11.513647",
     "status": "completed"
    },
    "tags": []
   },
   "outputs": [],
   "source": [
    "mod = KNeighborsRegressor().fit(X,y)\n",
    "\n",
    "pipe = Pipeline([\n",
    "    (\"scale\", StandardScaler()),\n",
    "    (\"model\", KNeighborsRegressor())\n",
    "])"
   ]
  },
  {
   "cell_type": "code",
   "execution_count": null,
   "id": "ddaeeb3f",
   "metadata": {
    "papermill": {
     "duration": 0.011381,
     "end_time": "2025-04-17T20:36:11.564126",
     "exception": false,
     "start_time": "2025-04-17T20:36:11.552745",
     "status": "completed"
    },
    "tags": []
   },
   "outputs": [],
   "source": []
  },
  {
   "cell_type": "code",
   "execution_count": 18,
   "id": "2d20f1ee",
   "metadata": {
    "execution": {
     "iopub.execute_input": "2025-04-17T20:36:11.589259Z",
     "iopub.status.busy": "2025-04-17T20:36:11.588359Z",
     "iopub.status.idle": "2025-04-17T20:36:11.599108Z",
     "shell.execute_reply": "2025-04-17T20:36:11.598066Z"
    },
    "papermill": {
     "duration": 0.024983,
     "end_time": "2025-04-17T20:36:11.600726",
     "exception": false,
     "start_time": "2025-04-17T20:36:11.575743",
     "status": "completed"
    },
    "tags": []
   },
   "outputs": [
    {
     "data": {
      "text/html": [
       "<style>#sk-container-id-3 {color: black;background-color: white;}#sk-container-id-3 pre{padding: 0;}#sk-container-id-3 div.sk-toggleable {background-color: white;}#sk-container-id-3 label.sk-toggleable__label {cursor: pointer;display: block;width: 100%;margin-bottom: 0;padding: 0.3em;box-sizing: border-box;text-align: center;}#sk-container-id-3 label.sk-toggleable__label-arrow:before {content: \"▸\";float: left;margin-right: 0.25em;color: #696969;}#sk-container-id-3 label.sk-toggleable__label-arrow:hover:before {color: black;}#sk-container-id-3 div.sk-estimator:hover label.sk-toggleable__label-arrow:before {color: black;}#sk-container-id-3 div.sk-toggleable__content {max-height: 0;max-width: 0;overflow: hidden;text-align: left;background-color: #f0f8ff;}#sk-container-id-3 div.sk-toggleable__content pre {margin: 0.2em;color: black;border-radius: 0.25em;background-color: #f0f8ff;}#sk-container-id-3 input.sk-toggleable__control:checked~div.sk-toggleable__content {max-height: 200px;max-width: 100%;overflow: auto;}#sk-container-id-3 input.sk-toggleable__control:checked~label.sk-toggleable__label-arrow:before {content: \"▾\";}#sk-container-id-3 div.sk-estimator input.sk-toggleable__control:checked~label.sk-toggleable__label {background-color: #d4ebff;}#sk-container-id-3 div.sk-label input.sk-toggleable__control:checked~label.sk-toggleable__label {background-color: #d4ebff;}#sk-container-id-3 input.sk-hidden--visually {border: 0;clip: rect(1px 1px 1px 1px);clip: rect(1px, 1px, 1px, 1px);height: 1px;margin: -1px;overflow: hidden;padding: 0;position: absolute;width: 1px;}#sk-container-id-3 div.sk-estimator {font-family: monospace;background-color: #f0f8ff;border: 1px dotted black;border-radius: 0.25em;box-sizing: border-box;margin-bottom: 0.5em;}#sk-container-id-3 div.sk-estimator:hover {background-color: #d4ebff;}#sk-container-id-3 div.sk-parallel-item::after {content: \"\";width: 100%;border-bottom: 1px solid gray;flex-grow: 1;}#sk-container-id-3 div.sk-label:hover label.sk-toggleable__label {background-color: #d4ebff;}#sk-container-id-3 div.sk-serial::before {content: \"\";position: absolute;border-left: 1px solid gray;box-sizing: border-box;top: 0;bottom: 0;left: 50%;z-index: 0;}#sk-container-id-3 div.sk-serial {display: flex;flex-direction: column;align-items: center;background-color: white;padding-right: 0.2em;padding-left: 0.2em;position: relative;}#sk-container-id-3 div.sk-item {position: relative;z-index: 1;}#sk-container-id-3 div.sk-parallel {display: flex;align-items: stretch;justify-content: center;background-color: white;position: relative;}#sk-container-id-3 div.sk-item::before, #sk-container-id-3 div.sk-parallel-item::before {content: \"\";position: absolute;border-left: 1px solid gray;box-sizing: border-box;top: 0;bottom: 0;left: 50%;z-index: -1;}#sk-container-id-3 div.sk-parallel-item {display: flex;flex-direction: column;z-index: 1;position: relative;background-color: white;}#sk-container-id-3 div.sk-parallel-item:first-child::after {align-self: flex-end;width: 50%;}#sk-container-id-3 div.sk-parallel-item:last-child::after {align-self: flex-start;width: 50%;}#sk-container-id-3 div.sk-parallel-item:only-child::after {width: 0;}#sk-container-id-3 div.sk-dashed-wrapped {border: 1px dashed gray;margin: 0 0.4em 0.5em 0.4em;box-sizing: border-box;padding-bottom: 0.4em;background-color: white;}#sk-container-id-3 div.sk-label label {font-family: monospace;font-weight: bold;display: inline-block;line-height: 1.2em;}#sk-container-id-3 div.sk-label-container {text-align: center;}#sk-container-id-3 div.sk-container {/* jupyter's `normalize.less` sets `[hidden] { display: none; }` but bootstrap.min.css set `[hidden] { display: none !important; }` so we also need the `!important` here to be able to override the default hidden behavior on the sphinx rendered scikit-learn.org. See: https://github.com/scikit-learn/scikit-learn/issues/21755 */display: inline-block !important;position: relative;}#sk-container-id-3 div.sk-text-repr-fallback {display: none;}</style><div id=\"sk-container-id-3\" class=\"sk-top-container\"><div class=\"sk-text-repr-fallback\"><pre>Pipeline(steps=[(&#x27;scale&#x27;, StandardScaler()), (&#x27;model&#x27;, KNeighborsRegressor())])</pre><b>In a Jupyter environment, please rerun this cell to show the HTML representation or trust the notebook. <br />On GitHub, the HTML representation is unable to render, please try loading this page with nbviewer.org.</b></div><div class=\"sk-container\" hidden><div class=\"sk-item sk-dashed-wrapped\"><div class=\"sk-label-container\"><div class=\"sk-label sk-toggleable\"><input class=\"sk-toggleable__control sk-hidden--visually\" id=\"sk-estimator-id-3\" type=\"checkbox\" ><label for=\"sk-estimator-id-3\" class=\"sk-toggleable__label sk-toggleable__label-arrow\">Pipeline</label><div class=\"sk-toggleable__content\"><pre>Pipeline(steps=[(&#x27;scale&#x27;, StandardScaler()), (&#x27;model&#x27;, KNeighborsRegressor())])</pre></div></div></div><div class=\"sk-serial\"><div class=\"sk-item\"><div class=\"sk-estimator sk-toggleable\"><input class=\"sk-toggleable__control sk-hidden--visually\" id=\"sk-estimator-id-4\" type=\"checkbox\" ><label for=\"sk-estimator-id-4\" class=\"sk-toggleable__label sk-toggleable__label-arrow\">StandardScaler</label><div class=\"sk-toggleable__content\"><pre>StandardScaler()</pre></div></div></div><div class=\"sk-item\"><div class=\"sk-estimator sk-toggleable\"><input class=\"sk-toggleable__control sk-hidden--visually\" id=\"sk-estimator-id-5\" type=\"checkbox\" ><label for=\"sk-estimator-id-5\" class=\"sk-toggleable__label sk-toggleable__label-arrow\">KNeighborsRegressor</label><div class=\"sk-toggleable__content\"><pre>KNeighborsRegressor()</pre></div></div></div></div></div></div></div>"
      ],
      "text/plain": [
       "Pipeline(steps=[('scale', StandardScaler()), ('model', KNeighborsRegressor())])"
      ]
     },
     "execution_count": 18,
     "metadata": {},
     "output_type": "execute_result"
    }
   ],
   "source": [
    "pipe.fit(X,y)"
   ]
  },
  {
   "cell_type": "code",
   "execution_count": 19,
   "id": "b1ae1c07",
   "metadata": {
    "execution": {
     "iopub.execute_input": "2025-04-17T20:36:11.626131Z",
     "iopub.status.busy": "2025-04-17T20:36:11.625737Z",
     "iopub.status.idle": "2025-04-17T20:36:11.637403Z",
     "shell.execute_reply": "2025-04-17T20:36:11.636418Z"
    },
    "papermill": {
     "duration": 0.026093,
     "end_time": "2025-04-17T20:36:11.639120",
     "exception": false,
     "start_time": "2025-04-17T20:36:11.613027",
     "status": "completed"
    },
    "tags": []
   },
   "outputs": [],
   "source": [
    "pred = pipe.predict(X)"
   ]
  },
  {
   "cell_type": "markdown",
   "id": "24d54bcb",
   "metadata": {
    "papermill": {
     "duration": 0.012054,
     "end_time": "2025-04-17T20:36:11.663948",
     "exception": false,
     "start_time": "2025-04-17T20:36:11.651894",
     "status": "completed"
    },
    "tags": []
   },
   "source": [
    "As we have preprocessed the data, now we can see some new plot of **KNeighbors**"
   ]
  },
  {
   "cell_type": "code",
   "execution_count": 20,
   "id": "5ce21475",
   "metadata": {
    "execution": {
     "iopub.execute_input": "2025-04-17T20:36:11.689610Z",
     "iopub.status.busy": "2025-04-17T20:36:11.688780Z",
     "iopub.status.idle": "2025-04-17T20:36:11.865622Z",
     "shell.execute_reply": "2025-04-17T20:36:11.864776Z"
    },
    "papermill": {
     "duration": 0.191468,
     "end_time": "2025-04-17T20:36:11.867277",
     "exception": false,
     "start_time": "2025-04-17T20:36:11.675809",
     "status": "completed"
    },
    "tags": []
   },
   "outputs": [
    {
     "data": {
      "text/plain": [
       "<matplotlib.collections.PathCollection at 0x7d04af93e410>"
      ]
     },
     "execution_count": 20,
     "metadata": {},
     "output_type": "execute_result"
    },
    {
     "data": {
      "image/png": "[encoded data removed]",
      "text/plain": [
       "<Figure size 640x480 with 1 Axes>"
      ]
     },
     "metadata": {},
     "output_type": "display_data"
    }
   ],
   "source": [
    "plt.scatter(pred, y)"
   ]
  },
  {
   "cell_type": "markdown",
   "id": "4c2daa1d",
   "metadata": {
    "papermill": {
     "duration": 0.012194,
     "end_time": "2025-04-17T20:36:11.892317",
     "exception": false,
     "start_time": "2025-04-17T20:36:11.880123",
     "status": "completed"
    },
    "tags": []
   },
   "source": [
    "# GridSearchCV"
   ]
  },
  {
   "attachments": {
    "2af6d7ec-3756-4311-8de1-875b324ecc7d.png": {
     "image/png": "[encoded data removed]"
    }
   },
   "cell_type": "markdown",
   "id": "06439885",
   "metadata": {
    "papermill": {
     "duration": 0.012199,
     "end_time": "2025-04-17T20:36:11.917163",
     "exception": false,
     "start_time": "2025-04-17T20:36:11.904964",
     "status": "completed"
    },
    "tags": []
   },
   "source": [
    "![image.png](attachment:2af6d7ec-3756-4311-8de1-875b324ecc7d.png)\n",
    "\n",
    " i would like to pick this number of neighbors setting such that my model makes the best predictions and in order to figure out which predictions are the best one thing that we can do is we can compare our prediction with the original label but as we've seen in a previous video we have to be really careful here we don't\n",
    "want to judge the model on the same data set as we're learning from and with that in mind maybe we should do a trick with a data set just to keep the methodology clean and here's the idea i'm going to cut this data set up into let's say three different segments and what i'm also going to do is i'm going to copy both data sets three times and here's the idea first i'm going to say well let's give this the predict name and let's do it over here i'll set the predict name here in the second set and i'll put predict down here in the third and i'm going to declare the other parts for training the first time around this part of the data set is going to be used for training and then given that trained model i can use this portion of the data that's not been used for training to test how well my predictions are going and in the next data copy i'm going to repeat the exercise but a different portion of the data is going to be used for prediction as well as training and finally the same thing happens here as well the idea here being i'm going to call dot fit dot predict here but i'm fitting on the green part and i'm predicting on the red part this prevents me from ever predicting on data that i've used during training but it does allow me to judge in the predict section of my data how well my predictions are"
   ]
  },
  {
   "cell_type": "markdown",
   "id": "9f6766af",
   "metadata": {
    "papermill": {
     "duration": 0.012761,
     "end_time": "2025-04-17T20:36:11.942770",
     "exception": false,
     "start_time": "2025-04-17T20:36:11.930009",
     "status": "completed"
    },
    "tags": []
   },
   "source": [
    "**To perform this task, we will use GridSearchCV**"
   ]
  },
  {
   "cell_type": "code",
   "execution_count": 21,
   "id": "f0fa6f6e",
   "metadata": {
    "execution": {
     "iopub.execute_input": "2025-04-17T20:36:11.969685Z",
     "iopub.status.busy": "2025-04-17T20:36:11.968871Z",
     "iopub.status.idle": "2025-04-17T20:36:11.973491Z",
     "shell.execute_reply": "2025-04-17T20:36:11.972681Z"
    },
    "papermill": {
     "duration": 0.01954,
     "end_time": "2025-04-17T20:36:11.974902",
     "exception": false,
     "start_time": "2025-04-17T20:36:11.955362",
     "status": "completed"
    },
    "tags": []
   },
   "outputs": [],
   "source": [
    "\n",
    "from sklearn.neighbors import KNeighborsRegressor\n",
    "from sklearn.preprocessing import StandardScaler\n",
    "from sklearn.pipeline import Pipeline\n",
    "\n",
    "#importing GridSearchCV\n",
    "from sklearn.model_selection import GridSearchCV\n",
    "\n",
    "import pandas as pd"
   ]
  },
  {
   "cell_type": "markdown",
   "id": "00147ecd",
   "metadata": {
    "papermill": {
     "duration": 0.012381,
     "end_time": "2025-04-17T20:36:11.999934",
     "exception": false,
     "start_time": "2025-04-17T20:36:11.987553",
     "status": "completed"
    },
    "tags": []
   },
   "source": [
    "> an estimator is something that has a dot fit as well as a predict and the pipeline that i've made earlier this one over here will do just fine"
   ]
  },
  {
   "cell_type": "markdown",
   "id": "3135d653",
   "metadata": {
    "papermill": {
     "duration": 0.012088,
     "end_time": "2025-04-17T20:36:12.024655",
     "exception": false,
     "start_time": "2025-04-17T20:36:12.012567",
     "status": "completed"
    },
    "tags": []
   },
   "source": [
    ">  parameter grid is going to represent all the settings that we would like to go over"
   ]
  },
  {
   "cell_type": "code",
   "execution_count": 22,
   "id": "2fab37c8",
   "metadata": {
    "execution": {
     "iopub.execute_input": "2025-04-17T20:36:12.050666Z",
     "iopub.status.busy": "2025-04-17T20:36:12.050333Z",
     "iopub.status.idle": "2025-04-17T20:36:12.056927Z",
     "shell.execute_reply": "2025-04-17T20:36:12.056207Z"
    },
    "papermill": {
     "duration": 0.021319,
     "end_time": "2025-04-17T20:36:12.058385",
     "exception": false,
     "start_time": "2025-04-17T20:36:12.037066",
     "status": "completed"
    },
    "tags": []
   },
   "outputs": [
    {
     "data": {
      "text/plain": [
       "{'memory': None,\n",
       " 'steps': [('scale', StandardScaler()), ('model', KNeighborsRegressor())],\n",
       " 'verbose': False,\n",
       " 'scale': StandardScaler(),\n",
       " 'model': KNeighborsRegressor(),\n",
       " 'scale__copy': True,\n",
       " 'scale__with_mean': True,\n",
       " 'scale__with_std': True,\n",
       " 'model__algorithm': 'auto',\n",
       " 'model__leaf_size': 30,\n",
       " 'model__metric': 'minkowski',\n",
       " 'model__metric_params': None,\n",
       " 'model__n_jobs': None,\n",
       " 'model__n_neighbors': 5,\n",
       " 'model__p': 2,\n",
       " 'model__weights': 'uniform'}"
      ]
     },
     "execution_count": 22,
     "metadata": {},
     "output_type": "execute_result"
    }
   ],
   "source": [
    "# to get the exact names of parameters of a function\n",
    "# use .get_params()\n",
    "\n",
    "pipe.get_params()"
   ]
  },
  {
   "cell_type": "code",
   "execution_count": 23,
   "id": "633f6813",
   "metadata": {
    "execution": {
     "iopub.execute_input": "2025-04-17T20:36:12.085393Z",
     "iopub.status.busy": "2025-04-17T20:36:12.084810Z",
     "iopub.status.idle": "2025-04-17T20:36:12.089455Z",
     "shell.execute_reply": "2025-04-17T20:36:12.088656Z"
    },
    "papermill": {
     "duration": 0.019761,
     "end_time": "2025-04-17T20:36:12.090982",
     "exception": false,
     "start_time": "2025-04-17T20:36:12.071221",
     "status": "completed"
    },
    "tags": []
   },
   "outputs": [],
   "source": [
    "# here as estimator, we are using the pipeline we earlier\n",
    "# used, named as \"pipe\"\n",
    "\n",
    "# in our pipeline in particular the one that we're interested in changing is this number of neighbors\n",
    "mod = GridSearchCV(estimator=pipe,\n",
    "                 param_grid={\n",
    "                   'model__n_neighbors': [1, 2, 3, 4, 5, 6, 7, 8, 9, 10]\n",
    "                 },\n",
    "                 cv=3)\n",
    "\n",
    "# cv stands for cross validation"
   ]
  },
  {
   "cell_type": "code",
   "execution_count": 24,
   "id": "37e0786d",
   "metadata": {
    "execution": {
     "iopub.execute_input": "2025-04-17T20:36:12.117472Z",
     "iopub.status.busy": "2025-04-17T20:36:12.117049Z",
     "iopub.status.idle": "2025-04-17T20:36:12.230337Z",
     "shell.execute_reply": "2025-04-17T20:36:12.229511Z"
    },
    "papermill": {
     "duration": 0.128076,
     "end_time": "2025-04-17T20:36:12.231809",
     "exception": false,
     "start_time": "2025-04-17T20:36:12.103733",
     "status": "completed"
    },
    "tags": []
   },
   "outputs": [
    {
     "data": {
      "text/plain": [
       "{'mean_fit_time': array([0.00159693, 0.0012308 , 0.0011638 , 0.00113455, 0.00111953,\n",
       "        0.00114171, 0.00111556, 0.00115291, 0.00112367, 0.00112939]),\n",
       " 'std_fit_time': array([4.53614932e-04, 1.64610529e-05, 1.99297904e-05, 1.75518109e-05,\n",
       "        9.71261096e-06, 2.48766554e-05, 4.72044703e-06, 1.77418598e-05,\n",
       "        2.80754117e-06, 4.91319705e-06]),\n",
       " 'mean_score_time': array([0.00162991, 0.00165979, 0.00176136, 0.00177312, 0.00168451,\n",
       "        0.00174133, 0.00177519, 0.00182382, 0.0018657 , 0.00190806]),\n",
       " 'std_score_time': array([3.02490032e-05, 1.62979441e-05, 8.47162046e-05, 1.43695150e-04,\n",
       "        1.80363125e-05, 8.62124864e-06, 2.45623856e-05, 2.23328634e-05,\n",
       "        1.42112051e-05, 2.37087668e-05]),\n",
       " 'param_model__n_neighbors': masked_array(data=[1, 2, 3, 4, 5, 6, 7, 8, 9, 10],\n",
       "              mask=[False, False, False, False, False, False, False, False,\n",
       "                    False, False],\n",
       "        fill_value='?',\n",
       "             dtype=object),\n",
       " 'params': [{'model__n_neighbors': 1},\n",
       "  {'model__n_neighbors': 2},\n",
       "  {'model__n_neighbors': 3},\n",
       "  {'model__n_neighbors': 4},\n",
       "  {'model__n_neighbors': 5},\n",
       "  {'model__n_neighbors': 6},\n",
       "  {'model__n_neighbors': 7},\n",
       "  {'model__n_neighbors': 8},\n",
       "  {'model__n_neighbors': 9},\n",
       "  {'model__n_neighbors': 10}],\n",
       " 'split0_test_score': array([0.10597623, 0.26888886, 0.33305693, 0.34240655, 0.35886501,\n",
       "        0.37266452, 0.41258356, 0.4144783 , 0.41419132, 0.40898932]),\n",
       " 'split1_test_score': array([0.12409247, 0.33937912, 0.38274397, 0.40470137, 0.37719828,\n",
       "        0.38992334, 0.39368142, 0.40977867, 0.412035  , 0.40530315]),\n",
       " 'split2_test_score': array([-0.15852256,  0.26456273,  0.35689912,  0.40990989,  0.41254918,\n",
       "         0.43638934,  0.44614745,  0.48585014,  0.52846174,  0.54437137]),\n",
       " 'mean_test_score': array([0.02384871, 0.29094357, 0.35756667, 0.3856726 , 0.38287082,\n",
       "        0.39965907, 0.41747081, 0.43670237, 0.45156269, 0.45288794]),\n",
       " 'std_test_score': array([0.12916788, 0.03429461, 0.02029014, 0.03066753, 0.0222805 ,\n",
       "        0.02691098, 0.02169616, 0.03480564, 0.05438297, 0.06470605]),\n",
       " 'rank_test_score': array([10,  9,  8,  6,  7,  5,  4,  3,  2,  1], dtype=int32)}"
      ]
     },
     "execution_count": 24,
     "metadata": {},
     "output_type": "execute_result"
    }
   ],
   "source": [
    "mod.fit(X, y);\n",
    "mod.cv_results_"
   ]
  },
  {
   "cell_type": "markdown",
   "id": "8c565dba",
   "metadata": {
    "papermill": {
     "duration": 0.012944,
     "end_time": "2025-04-17T20:36:12.257762",
     "exception": false,
     "start_time": "2025-04-17T20:36:12.244818",
     "status": "completed"
    },
    "tags": []
   },
   "source": [
    "**Lets learn about the datasets we used**"
   ]
  },
  {
   "cell_type": "code",
   "execution_count": 25,
   "id": "3356edb4",
   "metadata": {
    "execution": {
     "iopub.execute_input": "2025-04-17T20:36:12.285430Z",
     "iopub.status.busy": "2025-04-17T20:36:12.285093Z",
     "iopub.status.idle": "2025-04-17T20:36:12.293536Z",
     "shell.execute_reply": "2025-04-17T20:36:12.292611Z"
    },
    "papermill": {
     "duration": 0.024358,
     "end_time": "2025-04-17T20:36:12.295050",
     "exception": false,
     "start_time": "2025-04-17T20:36:12.270692",
     "status": "completed"
    },
    "tags": []
   },
   "outputs": [
    {
     "data": {
      "text/plain": [
       "'.. _diabetes_dataset:\\n\\nDiabetes dataset\\n----------------\\n\\nTen baseline variables, age, sex, body mass index, average blood\\npressure, and six blood serum measurements were obtained for each of n =\\n442 diabetes patients, as well as the response of interest, a\\nquantitative measure of disease progression one year after baseline.\\n\\n**Data Set Characteristics:**\\n\\n  :Number of Instances: 442\\n\\n  :Number of Attributes: First 10 columns are numeric predictive values\\n\\n  :Target: Column 11 is a quantitative measure of disease progression one year after baseline\\n\\n  :Attribute Information:\\n      - age     age in years\\n      - sex\\n      - bmi     body mass index\\n      - bp      average blood pressure\\n      - s1      tc, total serum cholesterol\\n      - s2      ldl, low-density lipoproteins\\n      - s3      hdl, high-density lipoproteins\\n      - s4      tch, total cholesterol / HDL\\n      - s5      ltg, possibly log of serum triglycerides level\\n      - s6      glu, blood sugar level\\n\\nNote: Each of these 10 feature variables have been mean centered and scaled by the standard deviation times the square root of `n_samples` (i.e. the sum of squares of each column totals 1).\\n\\nSource URL:\\nhttps://www4.stat.ncsu.edu/~boos/var.select/diabetes.html\\n\\nFor more information see:\\nBradley Efron, Trevor Hastie, Iain Johnstone and Robert Tibshirani (2004) \"Least Angle Regression,\" Annals of Statistics (with discussion), 407-499.\\n(https://web.stanford.edu/~hastie/Papers/LARS/LeastAngle_2002.pdf)\\n'"
      ]
     },
     "execution_count": 25,
     "metadata": {},
     "output_type": "execute_result"
    }
   ],
   "source": [
    "# DESCR = description\n",
    "\n",
    "load_diabetes()['DESCR']"
   ]
  },
  {
   "cell_type": "code",
   "execution_count": 26,
   "id": "ce7095fa",
   "metadata": {
    "execution": {
     "iopub.execute_input": "2025-04-17T20:36:12.322824Z",
     "iopub.status.busy": "2025-04-17T20:36:12.322482Z",
     "iopub.status.idle": "2025-04-17T20:36:12.330603Z",
     "shell.execute_reply": "2025-04-17T20:36:12.329786Z"
    },
    "papermill": {
     "duration": 0.023716,
     "end_time": "2025-04-17T20:36:12.332138",
     "exception": false,
     "start_time": "2025-04-17T20:36:12.308422",
     "status": "completed"
    },
    "tags": []
   },
   "outputs": [
    {
     "name": "stdout",
     "output_type": "stream",
     "text": [
      ".. _diabetes_dataset:\n",
      "\n",
      "Diabetes dataset\n",
      "----------------\n",
      "\n",
      "Ten baseline variables, age, sex, body mass index, average blood\n",
      "pressure, and six blood serum measurements were obtained for each of n =\n",
      "442 diabetes patients, as well as the response of interest, a\n",
      "quantitative measure of disease progression one year after baseline.\n",
      "\n",
      "**Data Set Characteristics:**\n",
      "\n",
      "  :Number of Instances: 442\n",
      "\n",
      "  :Number of Attributes: First 10 columns are numeric predictive values\n",
      "\n",
      "  :Target: Column 11 is a quantitative measure of disease progression one year after baseline\n",
      "\n",
      "  :Attribute Information:\n",
      "      - age     age in years\n",
      "      - sex\n",
      "      - bmi     body mass index\n",
      "      - bp      average blood pressure\n",
      "      - s1      tc, total serum cholesterol\n",
      "      - s2      ldl, low-density lipoproteins\n",
      "      - s3      hdl, high-density lipoproteins\n",
      "      - s4      tch, total cholesterol / HDL\n",
      "      - s5      ltg, possibly log of serum triglycerides level\n",
      "      - s6      glu, blood sugar level\n",
      "\n",
      "Note: Each of these 10 feature variables have been mean centered and scaled by the standard deviation times the square root of `n_samples` (i.e. the sum of squares of each column totals 1).\n",
      "\n",
      "Source URL:\n",
      "https://www4.stat.ncsu.edu/~boos/var.select/diabetes.html\n",
      "\n",
      "For more information see:\n",
      "Bradley Efron, Trevor Hastie, Iain Johnstone and Robert Tibshirani (2004) \"Least Angle Regression,\" Annals of Statistics (with discussion), 407-499.\n",
      "(https://web.stanford.edu/~hastie/Papers/LARS/LeastAngle_2002.pdf)\n",
      "\n"
     ]
    }
   ],
   "source": [
    "# print it for a nice output\n",
    "\n",
    "print(load_diabetes()['DESCR'])"
   ]
  },
  {
   "cell_type": "code",
   "execution_count": null,
   "id": "056ba100",
   "metadata": {
    "papermill": {
     "duration": 0.012907,
     "end_time": "2025-04-17T20:36:12.358594",
     "exception": false,
     "start_time": "2025-04-17T20:36:12.345687",
     "status": "completed"
    },
    "tags": []
   },
   "outputs": [],
   "source": []
  }
 ],
 "metadata": {
  "kaggle": {
   "accelerator": "none",
   "dataSources": [
    {
     "datasetId": 1815,
     "sourceId": 3139,
     "sourceType": "datasetVersion"
    }
   ],
   "dockerImageVersionId": 31012,
   "isGpuEnabled": false,
   "isInternetEnabled": false,
   "language": "python",
   "sourceType": "notebook"
  },
  "kernelspec": {
   "display_name": "Python 3",
   "language": "python",
   "name": "python3"
  },
  "language_info": {
   "codemirror_mode": {
    "name": "ipython",
    "version": 3
   },
   "file_extension": ".py",
   "mimetype": "text/x-python",
   "name": "python",
   "nbconvert_exporter": "python",
   "pygments_lexer": "ipython3",
   "version": "3.11.11"
  },
  "papermill": {
   "default_parameters": {},
   "duration": 11.499014,
   "end_time": "2025-04-17T20:36:13.091898",
   "environment_variables": {},
   "exception": null,
   "input_path": "__notebook__.ipynb",
   "output_path": "__notebook__.ipynb",
   "parameters": {},
   "start_time": "2025-04-17T20:36:01.592884",
   "version": "2.6.0"
  }
 },
 "nbformat": 4,
 "nbformat_minor": 5
}
